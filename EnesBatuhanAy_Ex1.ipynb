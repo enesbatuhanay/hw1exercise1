{
 "cells": [
  {
   "cell_type": "markdown",
   "id": "122d4612",
   "metadata": {},
   "source": [
    "<h1></h1>\n",
    "<p>Enes Batuhan Ay</p>\n",
    "<p>20160808061</p>\n",
    "<h2>1    Basics</h2>\n",
    "<h3>Exercise 1.1: The interpreter</h3>"
   ]
  },
  {
   "cell_type": "markdown",
   "id": "d6692b65",
   "metadata": {},
   "source": [
    "There won't be any change"
   ]
  },
  {
   "cell_type": "markdown",
   "id": "78473d81",
   "metadata": {},
   "source": [
    "<b>(a) 3 + 1</b>"
   ]
  },
  {
   "cell_type": "code",
   "execution_count": 19,
   "id": "0d608c0b",
   "metadata": {},
   "outputs": [
    {
     "data": {
      "text/plain": [
       "4"
      ]
     },
     "execution_count": 19,
     "metadata": {},
     "output_type": "execute_result"
    }
   ],
   "source": [
    "3 + 1"
   ]
  },
  {
   "cell_type": "markdown",
   "id": "a69705e4",
   "metadata": {},
   "source": [
    "<b>(b) 3 * 3</b>"
   ]
  },
  {
   "cell_type": "code",
   "execution_count": 20,
   "id": "b1db731c",
   "metadata": {
    "scrolled": true
   },
   "outputs": [
    {
     "data": {
      "text/plain": [
       "9"
      ]
     },
     "execution_count": 20,
     "metadata": {},
     "output_type": "execute_result"
    }
   ],
   "source": [
    "3 * 3"
   ]
  },
  {
   "cell_type": "markdown",
   "id": "d50772b2",
   "metadata": {},
   "source": [
    "<b>(c) 2 ** 3</b>"
   ]
  },
  {
   "cell_type": "code",
   "execution_count": 21,
   "id": "d058b357",
   "metadata": {},
   "outputs": [
    {
     "data": {
      "text/plain": [
       "8"
      ]
     },
     "execution_count": 21,
     "metadata": {},
     "output_type": "execute_result"
    }
   ],
   "source": [
    "2 ** 3"
   ]
  },
  {
   "cell_type": "markdown",
   "id": "feb191d4",
   "metadata": {},
   "source": [
    "<b>(d) \"Hello, world!\"</b>"
   ]
  },
  {
   "cell_type": "code",
   "execution_count": 5,
   "id": "908f3975",
   "metadata": {
    "scrolled": true
   },
   "outputs": [
    {
     "data": {
      "text/plain": [
       "'Hello, world!'"
      ]
     },
     "execution_count": 5,
     "metadata": {},
     "output_type": "execute_result"
    }
   ],
   "source": [
    "\"Hello, world!\""
   ]
  },
  {
   "cell_type": "markdown",
   "id": "c1b91460",
   "metadata": {},
   "source": [
    "<h3>Exercise 1.2: Scripts</h3>"
   ]
  },
  {
   "cell_type": "markdown",
   "id": "a02fd0a7",
   "metadata": {},
   "source": [
    "there are no output for that."
   ]
  },
  {
   "cell_type": "code",
   "execution_count": 4,
   "id": "64266e8d",
   "metadata": {
    "scrolled": true
   },
   "outputs": [
    {
     "name": "stdout",
     "output_type": "stream",
     "text": [
      "4\n"
     ]
    }
   ],
   "source": [
    "print(3 + 1)"
   ]
  },
  {
   "cell_type": "code",
   "execution_count": 48,
   "id": "f0567054",
   "metadata": {},
   "outputs": [
    {
     "name": "stdout",
     "output_type": "stream",
     "text": [
      "9\n"
     ]
    }
   ],
   "source": [
    "print(3 * 3)"
   ]
  },
  {
   "cell_type": "code",
   "execution_count": 9,
   "id": "2c978bfb",
   "metadata": {},
   "outputs": [
    {
     "name": "stdout",
     "output_type": "stream",
     "text": [
      "8\n"
     ]
    }
   ],
   "source": [
    "print(2 ** 3)"
   ]
  },
  {
   "cell_type": "code",
   "execution_count": 10,
   "id": "e11c0b95",
   "metadata": {},
   "outputs": [
    {
     "name": "stdout",
     "output_type": "stream",
     "text": [
      "Hello, world!\n"
     ]
    }
   ],
   "source": [
    "print(\"Hello, world!\")"
   ]
  },
  {
   "cell_type": "markdown",
   "id": "b515a23c",
   "metadata": {},
   "source": [
    "<h3>Exercise 1.3: More interpreter</h3>"
   ]
  },
  {
   "cell_type": "markdown",
   "id": "1dc15e8f",
   "metadata": {},
   "source": [
    "<b>(a) 'py' + 'thon'</b>"
   ]
  },
  {
   "cell_type": "code",
   "execution_count": 37,
   "id": "7f4ddad8",
   "metadata": {},
   "outputs": [
    {
     "data": {
      "text/plain": [
       "'python'"
      ]
     },
     "execution_count": 37,
     "metadata": {},
     "output_type": "execute_result"
    }
   ],
   "source": [
    "'py' + 'thon'"
   ]
  },
  {
   "cell_type": "markdown",
   "id": "5f1b5658",
   "metadata": {},
   "source": [
    "<b>(b) 'py' * 3 + 'thon'</b>\n",
    "\n",
    "<b>Answer:</b> 'py' * 3 works as pypypy. The int number indicates printed."
   ]
  },
  {
   "cell_type": "code",
   "execution_count": 38,
   "id": "c4579252",
   "metadata": {},
   "outputs": [
    {
     "data": {
      "text/plain": [
       "'pypypython'"
      ]
     },
     "execution_count": 38,
     "metadata": {},
     "output_type": "execute_result"
    }
   ],
   "source": [
    "'py' * 3 + 'thon'"
   ]
  },
  {
   "cell_type": "markdown",
   "id": "c8b5b66f",
   "metadata": {},
   "source": [
    "<b>(c) 'py' - 'py</b>\n",
    "\n",
    "<b>Answer:</b> Python gave us an error."
   ]
  },
  {
   "cell_type": "code",
   "execution_count": null,
   "id": "4b9ea66b",
   "metadata": {},
   "outputs": [],
   "source": [
    "\"py\" - \"py\""
   ]
  },
  {
   "cell_type": "markdown",
   "id": "bd99f276",
   "metadata": {},
   "source": [
    "<b>(d) '3' + 3</b>\n",
    "\n",
    "<b>Answer:</b> Unlike Java, Python does not have + "
   ]
  },
  {
   "cell_type": "code",
   "execution_count": null,
   "id": "2e38df54",
   "metadata": {},
   "outputs": [],
   "source": [
    "'3' + 3"
   ]
  },
  {
   "cell_type": "markdown",
   "id": "3b9de3c3",
   "metadata": {},
   "source": [
    "<b>(e) 3 * '3'</b>\n",
    "\n",
    "<b>Answer:</b> will print three  '3'."
   ]
  },
  {
   "cell_type": "code",
   "execution_count": 41,
   "id": "9a28eaf5",
   "metadata": {},
   "outputs": [
    {
     "data": {
      "text/plain": [
       "'333'"
      ]
     },
     "execution_count": 41,
     "metadata": {},
     "output_type": "execute_result"
    }
   ],
   "source": [
    "3 * '3'"
   ]
  },
  {
   "cell_type": "markdown",
   "id": "a54e32ed",
   "metadata": {},
   "source": [
    "<b>(f) a</b>\n",
    "\n",
    "<b>Answer:</b> we get an error."
   ]
  },
  {
   "cell_type": "code",
   "execution_count": null,
   "id": "bd0b0f4c",
   "metadata": {},
   "outputs": [],
   "source": [
    "a"
   ]
  },
  {
   "cell_type": "markdown",
   "id": "b1f06769",
   "metadata": {},
   "source": [
    "<b>(g) a = 3</b>\n",
    "\n",
    "<b>Answer:</b> We able to print the result."
   ]
  },
  {
   "cell_type": "code",
   "execution_count": 44,
   "id": "6beeaef6",
   "metadata": {},
   "outputs": [
    {
     "data": {
      "text/plain": [
       "3"
      ]
     },
     "execution_count": 44,
     "metadata": {},
     "output_type": "execute_result"
    }
   ],
   "source": [
    "a = 3\n",
    "a"
   ]
  },
  {
   "cell_type": "markdown",
   "id": "2a58e63a",
   "metadata": {},
   "source": [
    "<b>(h) a</b>\n",
    "\n",
    "<b>Answer:</b> result should be 3."
   ]
  },
  {
   "cell_type": "code",
   "execution_count": 36,
   "id": "d73456ad",
   "metadata": {},
   "outputs": [
    {
     "data": {
      "text/plain": [
       "3"
      ]
     },
     "execution_count": 36,
     "metadata": {},
     "output_type": "execute_result"
    }
   ],
   "source": [
    "a"
   ]
  },
  {
   "cell_type": "markdown",
   "id": "a67716ff",
   "metadata": {},
   "source": [
    "<h3>Exercise 1.4: Booleans</h3>"
   ]
  },
  {
   "cell_type": "markdown",
   "id": "ddeaf2c5",
   "metadata": {},
   "source": [
    "<b>(a) 1 == 1</b>\n",
    "\n",
    "<b>Answer:</b> It should result in True."
   ]
  },
  {
   "cell_type": "code",
   "execution_count": 51,
   "id": "6ef536f8",
   "metadata": {},
   "outputs": [
    {
     "data": {
      "text/plain": [
       "True"
      ]
     },
     "execution_count": 51,
     "metadata": {},
     "output_type": "execute_result"
    }
   ],
   "source": [
    "1 == 1"
   ]
  },
  {
   "cell_type": "markdown",
   "id": "c8ea2440",
   "metadata": {},
   "source": [
    "<b>(b) 1 == True</b>\n",
    "\n",
    "<b>Answer:</b> 1 and True are equal values."
   ]
  },
  {
   "cell_type": "code",
   "execution_count": null,
   "id": "fbc4d62a",
   "metadata": {},
   "outputs": [],
   "source": [
    "1 == True"
   ]
  },
  {
   "cell_type": "markdown",
   "id": "b1cd6680",
   "metadata": {},
   "source": [
    "<b>(c) 0 == True</b>\n",
    "\n",
    "<b>Answer:</b> 0 and True are not equal,so it is false."
   ]
  },
  {
   "cell_type": "code",
   "execution_count": 54,
   "id": "a9a95330",
   "metadata": {
    "scrolled": true
   },
   "outputs": [
    {
     "data": {
      "text/plain": [
       "False"
      ]
     },
     "execution_count": 54,
     "metadata": {},
     "output_type": "execute_result"
    }
   ],
   "source": [
    "0 == True"
   ]
  },
  {
   "cell_type": "markdown",
   "id": "1ad6e26f",
   "metadata": {},
   "source": [
    "<b>(d) 0 == False</b>\n",
    "\n",
    "<b>Answer:</b> True"
   ]
  },
  {
   "cell_type": "code",
   "execution_count": 61,
   "id": "b0cc5c84",
   "metadata": {},
   "outputs": [
    {
     "data": {
      "text/plain": [
       "True"
      ]
     },
     "execution_count": 61,
     "metadata": {},
     "output_type": "execute_result"
    }
   ],
   "source": [
    "0 == False"
   ]
  },
  {
   "cell_type": "markdown",
   "id": "13e23d0b",
   "metadata": {},
   "source": [
    "<b><b>(e) 3 == 1 * 3</b>\n",
    "\n",
    "<b>Answer:</b> both sides are equal,so True"
   ]
  },
  {
   "cell_type": "code",
   "execution_count": 62,
   "id": "636daeb0",
   "metadata": {},
   "outputs": [
    {
     "data": {
      "text/plain": [
       "True"
      ]
     },
     "execution_count": 62,
     "metadata": {},
     "output_type": "execute_result"
    }
   ],
   "source": [
    "3 == 1 * 3"
   ]
  },
  {
   "cell_type": "markdown",
   "id": "fe733533",
   "metadata": {},
   "source": [
    "<b>(f) (3 == 1) * 3</b>"
   ]
  },
  {
   "cell_type": "code",
   "execution_count": 65,
   "id": "6751c89a",
   "metadata": {},
   "outputs": [
    {
     "data": {
      "text/plain": [
       "0"
      ]
     },
     "execution_count": 65,
     "metadata": {},
     "output_type": "execute_result"
    }
   ],
   "source": [
    "(3 == 1) * 3"
   ]
  },
  {
   "cell_type": "markdown",
   "id": "caa89862",
   "metadata": {},
   "source": [
    "<b>(g) (3 == 3) * 4 + 3 == 1</b>"
   ]
  },
  {
   "cell_type": "code",
   "execution_count": 64,
   "id": "a17e56aa",
   "metadata": {},
   "outputs": [
    {
     "data": {
      "text/plain": [
       "False"
      ]
     },
     "execution_count": 64,
     "metadata": {},
     "output_type": "execute_result"
    }
   ],
   "source": [
    "(3 == 3) * 4 + 3 == 1"
   ]
  },
  {
   "cell_type": "markdown",
   "id": "57997981",
   "metadata": {},
   "source": [
    "<b>(h) 3 ** 5 >= 4 ** 4</b>\n",
    "\n",
    "Since 4 ** 4 > 3 ** 5, it should be False."
   ]
  },
  {
   "cell_type": "code",
   "execution_count": 68,
   "id": "da5ea2bf",
   "metadata": {},
   "outputs": [
    {
     "data": {
      "text/plain": [
       "False"
      ]
     },
     "execution_count": 68,
     "metadata": {},
     "output_type": "execute_result"
    }
   ],
   "source": [
    "3 ** 5 >= 4 ** 4"
   ]
  },
  {
   "cell_type": "markdown",
   "id": "9f3ba02f",
   "metadata": {},
   "source": [
    "<h3>Exercise 1.5: Integers</h3>"
   ]
  },
  {
   "cell_type": "markdown",
   "id": "54e01ae7",
   "metadata": {},
   "source": [
    "<b>(a) 5 / 3</b>\n",
    "\n",
    "<b>Answer:</b> Simple arithmetic operations."
   ]
  },
  {
   "cell_type": "code",
   "execution_count": 69,
   "id": "af46bbc9",
   "metadata": {},
   "outputs": [
    {
     "data": {
      "text/plain": [
       "1.6666666666666667"
      ]
     },
     "execution_count": 69,
     "metadata": {},
     "output_type": "execute_result"
    }
   ],
   "source": [
    "5 / 3"
   ]
  },
  {
   "cell_type": "markdown",
   "id": "5ac8521c",
   "metadata": {},
   "source": [
    "<b>(b) 5 % 3</b>\n",
    "\n",
    "<b>Answer:</b> give the remaining of the division operation."
   ]
  },
  {
   "cell_type": "code",
   "execution_count": 71,
   "id": "6c32900e",
   "metadata": {},
   "outputs": [
    {
     "data": {
      "text/plain": [
       "2"
      ]
     },
     "execution_count": 71,
     "metadata": {},
     "output_type": "execute_result"
    }
   ],
   "source": [
    "5 % 3"
   ]
  },
  {
   "cell_type": "markdown",
   "id": "cbf6d7cc",
   "metadata": {},
   "source": [
    "<b>(c) 5.0 / 3</b>"
   ]
  },
  {
   "cell_type": "code",
   "execution_count": 72,
   "id": "996617ad",
   "metadata": {},
   "outputs": [
    {
     "data": {
      "text/plain": [
       "1.6666666666666667"
      ]
     },
     "execution_count": 72,
     "metadata": {},
     "output_type": "execute_result"
    }
   ],
   "source": [
    "5.0 / 3"
   ]
  },
  {
   "cell_type": "markdown",
   "id": "849bb19a",
   "metadata": {},
   "source": [
    "<b>(d) 5 / 3.0</b>"
   ]
  },
  {
   "cell_type": "code",
   "execution_count": 74,
   "id": "d46b6ce3",
   "metadata": {},
   "outputs": [
    {
     "data": {
      "text/plain": [
       "1.6666666666666667"
      ]
     },
     "execution_count": 74,
     "metadata": {},
     "output_type": "execute_result"
    }
   ],
   "source": [
    "5 / 3.0"
   ]
  },
  {
   "cell_type": "markdown",
   "id": "284322c3",
   "metadata": {},
   "source": [
    "<b>(e) 5.2 % 3</b>"
   ]
  },
  {
   "cell_type": "code",
   "execution_count": 75,
   "id": "108f1f88",
   "metadata": {},
   "outputs": [
    {
     "data": {
      "text/plain": [
       "2.2"
      ]
     },
     "execution_count": 75,
     "metadata": {},
     "output_type": "execute_result"
    }
   ],
   "source": [
    "5.2 % 3"
   ]
  },
  {
   "cell_type": "markdown",
   "id": "c1d42209",
   "metadata": {},
   "source": [
    "<b><b>(f) 2001 ** 200</b>\n",
    "\n",
    "<b>Answer:</b> 2001 to the power of 200"
   ]
  },
  {
   "cell_type": "code",
   "execution_count": 76,
   "id": "18c587d4",
   "metadata": {},
   "outputs": [
    {
     "data": {
      "text/plain": [
       "1775896810483121914350934797871501063452843428843794422323202530887281536545210629921129898113201749875234297340507804201761453596034016264189501186924066128377025843892373608427790859511135990682732202975330824797118808624727351608183194154557208730494440110429635650057431833674286462463508755276302896154336475782768613964332764108132533925570342220340698973761380541294970139762186212823359128790706292900765512137078550033912252338262922477518858757114840012576514724742388124595061301502222934806074032688691170880996881967426442947828261057852871032366879179996122216385870273020506079240103910728766397733398071775041745854959302025036249707279600400001"
      ]
     },
     "execution_count": 76,
     "metadata": {},
     "output_type": "execute_result"
    }
   ],
   "source": [
    "2001 ** 200"
   ]
  },
  {
   "cell_type": "markdown",
   "id": "a0deddca",
   "metadata": {},
   "source": [
    "<h3>Exercise 1.6: Floats</h3>"
   ]
  },
  {
   "cell_type": "markdown",
   "id": "f2650236",
   "metadata": {},
   "source": [
    "<b>(a) 2000.3 ** 200</b>\n",
    "\n",
    "<b>Answer:</b> will give us an error it's a too large number."
   ]
  },
  {
   "cell_type": "code",
   "execution_count": null,
   "id": "b6397550",
   "metadata": {},
   "outputs": [],
   "source": [
    "2000.3 ** 200"
   ]
  },
  {
   "cell_type": "markdown",
   "id": "32dab81d",
   "metadata": {},
   "source": [
    "<b>(b) 1.0 + 1.0 - 1.0</b>"
   ]
  },
  {
   "cell_type": "code",
   "execution_count": 85,
   "id": "de8867ca",
   "metadata": {
    "scrolled": true
   },
   "outputs": [
    {
     "data": {
      "text/plain": [
       "1.0"
      ]
     },
     "execution_count": 85,
     "metadata": {},
     "output_type": "execute_result"
    }
   ],
   "source": [
    "1.0 + 1.0 - 1.0"
   ]
  },
  {
   "cell_type": "markdown",
   "id": "307be24f",
   "metadata": {},
   "source": [
    "<b>(c) 1.0 + 1.0e20 - 1.0e20</b>"
   ]
  },
  {
   "cell_type": "code",
   "execution_count": 86,
   "id": "282083a8",
   "metadata": {},
   "outputs": [
    {
     "data": {
      "text/plain": [
       "0.0"
      ]
     },
     "execution_count": 86,
     "metadata": {},
     "output_type": "execute_result"
    }
   ],
   "source": [
    "1.0 + 1.0e20 - 1.0e20"
   ]
  },
  {
   "cell_type": "markdown",
   "id": "9bea8e09",
   "metadata": {},
   "source": [
    "<h3>Exercise 1.7: Variables</h3>"
   ]
  },
  {
   "cell_type": "code",
   "execution_count": 95,
   "id": "98022d3e",
   "metadata": {
    "scrolled": true
   },
   "outputs": [
    {
     "name": "stdout",
     "output_type": "stream",
     "text": [
      "Hello, Enes Batuhan Ay!\n"
     ]
    }
   ],
   "source": [
    "myName = \"Enes Batuhan Ay\"\n",
    "print(\"Hello, \" + myName + \"!\")"
   ]
  },
  {
   "cell_type": "markdown",
   "id": "c93c972c",
   "metadata": {},
   "source": [
    "<h3>Exercise 1.8: Type Casting</h3>"
   ]
  },
  {
   "cell_type": "markdown",
   "id": "9ad3832e",
   "metadata": {},
   "source": [
    "<b>(a) float(123)</b>"
   ]
  },
  {
   "cell_type": "code",
   "execution_count": 96,
   "id": "b377cf80",
   "metadata": {},
   "outputs": [
    {
     "data": {
      "text/plain": [
       "123.0"
      ]
     },
     "execution_count": 96,
     "metadata": {},
     "output_type": "execute_result"
    }
   ],
   "source": [
    "float(123)"
   ]
  },
  {
   "cell_type": "markdown",
   "id": "cc42bd15",
   "metadata": {},
   "source": [
    "<b>(b) float('123')</b>"
   ]
  },
  {
   "cell_type": "code",
   "execution_count": 97,
   "id": "3aa2e7c9",
   "metadata": {},
   "outputs": [
    {
     "data": {
      "text/plain": [
       "123.0"
      ]
     },
     "execution_count": 97,
     "metadata": {},
     "output_type": "execute_result"
    }
   ],
   "source": [
    "float('123')"
   ]
  },
  {
   "cell_type": "markdown",
   "id": "6be4d4f0",
   "metadata": {},
   "source": [
    "<b>(c) float('123.23')</b>"
   ]
  },
  {
   "cell_type": "code",
   "execution_count": 98,
   "id": "1752bc59",
   "metadata": {},
   "outputs": [
    {
     "data": {
      "text/plain": [
       "123.23"
      ]
     },
     "execution_count": 98,
     "metadata": {},
     "output_type": "execute_result"
    }
   ],
   "source": [
    "float('123.23')"
   ]
  },
  {
   "cell_type": "markdown",
   "id": "a88d0dfc",
   "metadata": {},
   "source": [
    "<b>(d) int(123.23)</b>"
   ]
  },
  {
   "cell_type": "code",
   "execution_count": 99,
   "id": "0f3b6bc6",
   "metadata": {},
   "outputs": [
    {
     "data": {
      "text/plain": [
       "123"
      ]
     },
     "execution_count": 99,
     "metadata": {},
     "output_type": "execute_result"
    }
   ],
   "source": [
    "int(123.23)"
   ]
  },
  {
   "cell_type": "markdown",
   "id": "2ea841b6",
   "metadata": {},
   "source": [
    "<b>(e) int('123.23')</b>\n",
    "\n",
    "<b>Answer:</b>invalid entry ."
   ]
  },
  {
   "cell_type": "code",
   "execution_count": null,
   "id": "05450ad3",
   "metadata": {},
   "outputs": [],
   "source": [
    "int('123.23')"
   ]
  },
  {
   "cell_type": "markdown",
   "id": "005d7d44",
   "metadata": {},
   "source": [
    "<b>(f) int(float('123.23'))</b>"
   ]
  },
  {
   "cell_type": "code",
   "execution_count": 101,
   "id": "2082d3fe",
   "metadata": {},
   "outputs": [
    {
     "data": {
      "text/plain": [
       "123"
      ]
     },
     "execution_count": 101,
     "metadata": {},
     "output_type": "execute_result"
    }
   ],
   "source": [
    "int(float('123.23'))"
   ]
  },
  {
   "cell_type": "markdown",
   "id": "90bb4eef",
   "metadata": {},
   "source": [
    "<b>(g) str(12)</b>\n",
    "\n",
    "can be cast into string value"
   ]
  },
  {
   "cell_type": "code",
   "execution_count": 102,
   "id": "c325c369",
   "metadata": {},
   "outputs": [
    {
     "data": {
      "text/plain": [
       "'12'"
      ]
     },
     "execution_count": 102,
     "metadata": {},
     "output_type": "execute_result"
    }
   ],
   "source": [
    "str(12)"
   ]
  },
  {
   "cell_type": "markdown",
   "id": "012a202c",
   "metadata": {},
   "source": [
    "<b>(h) str(12.2)</b>"
   ]
  },
  {
   "cell_type": "code",
   "execution_count": 103,
   "id": "35209840",
   "metadata": {},
   "outputs": [
    {
     "data": {
      "text/plain": [
       "'12.2'"
      ]
     },
     "execution_count": 103,
     "metadata": {},
     "output_type": "execute_result"
    }
   ],
   "source": [
    "str(12.2)"
   ]
  },
  {
   "cell_type": "markdown",
   "id": "95e9fadd",
   "metadata": {},
   "source": [
    "<b>(i) bool('a')</b>\n",
    "\n",
    "<b>Answer:</b> boolean castings result in True"
   ]
  },
  {
   "cell_type": "code",
   "execution_count": 104,
   "id": "a1392c56",
   "metadata": {},
   "outputs": [
    {
     "data": {
      "text/plain": [
       "True"
      ]
     },
     "execution_count": 104,
     "metadata": {},
     "output_type": "execute_result"
    }
   ],
   "source": [
    "bool('a')"
   ]
  },
  {
   "cell_type": "markdown",
   "id": "fdaec0e5",
   "metadata": {},
   "source": [
    "<b>(j) bool(0)</b>"
   ]
  },
  {
   "cell_type": "code",
   "execution_count": 105,
   "id": "59795020",
   "metadata": {},
   "outputs": [
    {
     "data": {
      "text/plain": [
       "False"
      ]
     },
     "execution_count": 105,
     "metadata": {},
     "output_type": "execute_result"
    }
   ],
   "source": [
    "bool(0)"
   ]
  },
  {
   "cell_type": "markdown",
   "id": "9b797152",
   "metadata": {},
   "source": [
    "<b>(k) bool(0.1)</b>"
   ]
  },
  {
   "cell_type": "code",
   "execution_count": 106,
   "id": "5883a92f",
   "metadata": {},
   "outputs": [
    {
     "data": {
      "text/plain": [
       "True"
      ]
     },
     "execution_count": 106,
     "metadata": {},
     "output_type": "execute_result"
    }
   ],
   "source": [
    "bool(0.1)"
   ]
  },
  {
   "cell_type": "markdown",
   "id": "52f95342",
   "metadata": {},
   "source": [
    "<h2>2    Control flow</h2>\n",
    "<h3>Exercise 2.1: Range</h3>"
   ]
  },
  {
   "cell_type": "markdown",
   "id": "23edd729",
   "metadata": {},
   "source": [
    "\"for i in range(5)\" starts from 0 and incremented by 1 until 5."
   ]
  },
  {
   "cell_type": "code",
   "execution_count": 109,
   "id": "2fae4440",
   "metadata": {},
   "outputs": [
    {
     "data": {
      "text/plain": [
       "range(0, 5)"
      ]
     },
     "execution_count": 109,
     "metadata": {},
     "output_type": "execute_result"
    }
   ],
   "source": [
    "range(5)"
   ]
  },
  {
   "cell_type": "code",
   "execution_count": 110,
   "id": "47c79629",
   "metadata": {},
   "outputs": [
    {
     "data": {
      "text/plain": [
       "range"
      ]
     },
     "execution_count": 110,
     "metadata": {},
     "output_type": "execute_result"
    }
   ],
   "source": [
    "type(range(5))"
   ]
  },
  {
   "cell_type": "markdown",
   "id": "64b766ac",
   "metadata": {},
   "source": [
    "<h3>Exercise 2.2: For Loops</h3>"
   ]
  },
  {
   "cell_type": "markdown",
   "id": "a98942db",
   "metadata": {},
   "source": [
    "<b>(a) Print the numbers 0 to 100</b>"
   ]
  },
  {
   "cell_type": "code",
   "execution_count": 9,
   "id": "3e97cb11",
   "metadata": {
    "scrolled": false
   },
   "outputs": [
    {
     "name": "stdout",
     "output_type": "stream",
     "text": [
      "0 1 2 3 4 5 6 7 8 9 10 11 12 13 14 15 16 17 18 19 20 21 22 23 24 25 26 27 28 29 30 31 32 33 34 35 36 37 38 39 40 41 42 43 44 45 46 47 48 49 50 51 52 53 54 55 56 57 58 59 60 61 62 63 64 65 66 67 68 69 70 71 72 73 74 75 76 77 78 79 80 81 82 83 84 85 86 87 88 89 90 91 92 93 94 95 96 97 98 99 "
     ]
    }
   ],
   "source": [
    "for x in range(0,100):\n",
    "    print(x, end = \" \")"
   ]
  },
  {
   "cell_type": "markdown",
   "id": "b9b429c2",
   "metadata": {},
   "source": [
    "<b>(b) Print the numbers 0 to 100 that are divisible 7.</b>"
   ]
  },
  {
   "cell_type": "code",
   "execution_count": 7,
   "id": "f1318b0c",
   "metadata": {
    "scrolled": true
   },
   "outputs": [
    {
     "name": "stdout",
     "output_type": "stream",
     "text": [
      "0 7 14 21 28 35 42 49 56 63 70 77 84 91 98 "
     ]
    }
   ],
   "source": [
    "for x in range(0,100,7):\n",
    "    print(x, end = \" \")"
   ]
  },
  {
   "cell_type": "markdown",
   "id": "0014ad17",
   "metadata": {},
   "source": [
    "<b>(c) Print the numbers 1 to 100 that are divisible by 5 but not by 3.</b>"
   ]
  },
  {
   "cell_type": "code",
   "execution_count": 11,
   "id": "ee49a2b3",
   "metadata": {},
   "outputs": [
    {
     "name": "stdout",
     "output_type": "stream",
     "text": [
      "5 10 20 25 35 40 50 55 65 70 80 85 95 "
     ]
    }
   ],
   "source": [
    "for x in range(1,100):\n",
    "    if (x % 3 != 0 and x % 5 == 0):\n",
    "        print(x, end = \" \")"
   ]
  },
  {
   "cell_type": "markdown",
   "id": "4b67eff8",
   "metadata": {},
   "source": [
    "<b>(d) Print for each of the numbers x = 2, . . . 20, all numbers that divide x, excluding 1 and x. Hence,\n",
    "for 18, it should print 2 3 6 9.</b>"
   ]
  },
  {
   "cell_type": "code",
   "execution_count": 35,
   "id": "29e7c657",
   "metadata": {
    "scrolled": false
   },
   "outputs": [
    {
     "name": "stdout",
     "output_type": "stream",
     "text": [
      "\n",
      "for 2: \n",
      "for 3: \n",
      "for 4: 2 \n",
      "for 5: \n",
      "for 6: 2 3 \n",
      "for 7: \n",
      "for 8: 2 4 \n",
      "for 9: 3 \n",
      "for 10: 2 5 \n",
      "for 11: \n",
      "for 12: 2 3 4 6 \n",
      "for 13: \n",
      "for 14: 2 7 \n",
      "for 15: 3 5 \n",
      "for 16: 2 4 8 \n",
      "for 17: \n",
      "for 18: 2 3 6 9 \n",
      "for 19: "
     ]
    }
   ],
   "source": [
    "for x in range(2,20):\n",
    "    print('')\n",
    "    print(\"for \" + str(x) + \":\", end = \" \")\n",
    "    for y in range(2,x):\n",
    "        if x % y == 0 and y < x:\n",
    "            print(str(y), end = \" \")"
   ]
  },
  {
   "cell_type": "markdown",
   "id": "0c98d38f",
   "metadata": {},
   "source": [
    "<h3>Exercise 2.3: Simple while loops</h3>"
   ]
  },
  {
   "cell_type": "markdown",
   "id": "ff096bc8",
   "metadata": {},
   "source": [
    "<b>(a) Print the numbers 0 to 100</b>"
   ]
  },
  {
   "cell_type": "code",
   "execution_count": 26,
   "id": "7ed62917",
   "metadata": {},
   "outputs": [
    {
     "name": "stdout",
     "output_type": "stream",
     "text": [
      "0 1 2 3 4 5 6 7 8 9 10 11 12 13 14 15 16 17 18 19 20 21 22 23 24 25 26 27 28 29 30 31 32 33 34 35 36 37 38 39 40 41 42 43 44 45 46 47 48 49 50 51 52 53 54 55 56 57 58 59 60 61 62 63 64 65 66 67 68 69 70 71 72 73 74 75 76 77 78 79 80 81 82 83 84 85 86 87 88 89 90 91 92 93 94 95 96 97 98 99 "
     ]
    }
   ],
   "source": [
    "i = 0\n",
    "while i < 100:\n",
    "    print(i, end = \" \")\n",
    "    i += 1"
   ]
  },
  {
   "cell_type": "markdown",
   "id": "24d90c9a",
   "metadata": {},
   "source": [
    "<b>(b) Print the numbers 0 to 100 that are divisible by 7</b>"
   ]
  },
  {
   "cell_type": "code",
   "execution_count": 36,
   "id": "b56bb018",
   "metadata": {},
   "outputs": [
    {
     "name": "stdout",
     "output_type": "stream",
     "text": [
      "0 7 14 21 28 35 42 49 56 63 70 77 84 91 98 "
     ]
    }
   ],
   "source": [
    "i = 0\n",
    "while i < 100:\n",
    "    if (i % 7 == 0):\n",
    "        print(i, end = \" \")\n",
    "    i += 1"
   ]
  },
  {
   "cell_type": "markdown",
   "id": "4183635a",
   "metadata": {},
   "source": [
    "<h3>Exercise 2.4 Hangman update 1</h3>"
   ]
  },
  {
   "cell_type": "code",
   "execution_count": null,
   "id": "490c80fd",
   "metadata": {},
   "outputs": [],
   "source": [
    "ch = 'e'\n",
    "self.available.remove(ch)\n",
    "ch = 'a'\n",
    "self.available.remove(ch)"
   ]
  },
  {
   "cell_type": "markdown",
   "id": "f4e915be",
   "metadata": {},
   "source": [
    "<h3>Exercise 2.5: While loops</h3>"
   ]
  },
  {
   "cell_type": "code",
   "execution_count": 38,
   "id": "84603641",
   "metadata": {},
   "outputs": [
    {
     "name": "stdout",
     "output_type": "stream",
     "text": [
      "385 770 1155 1540 1925 2310 2695 3080 3465 3850 4235 4620 5005 5390 5775 6160 6545 6930 7315 7700 "
     ]
    }
   ],
   "source": [
    "numberFound = 0\n",
    "x = 11\n",
    "while numberFound < 20:\n",
    "    if x % 5 == 0 and x % 7 == 0 and x % 11 == 0:\n",
    "        print(x, end = \" \")\n",
    "        numberFound += 1;\n",
    "    x += 1"
   ]
  },
  {
   "cell_type": "markdown",
   "id": "4ebb3801",
   "metadata": {},
   "source": [
    "<h3>Exercise 2.6: More while loops</h3>"
   ]
  },
  {
   "cell_type": "code",
   "execution_count": null,
   "id": "8c5561b4",
   "metadata": {},
   "outputs": [],
   "source": [
    "for x in range (1,11):\n",
    "    "
   ]
  },
  {
   "cell_type": "markdown",
   "id": "b69fb91e",
   "metadata": {},
   "source": [
    "<h3>Exercise 2.7: Collatz sequence</h3>"
   ]
  },
  {
   "cell_type": "code",
   "execution_count": 1,
   "id": "b1effeee",
   "metadata": {},
   "outputs": [
    {
     "name": "stdout",
     "output_type": "stream",
     "text": [
      "103 310 155 466 233 700 350 175 526 263 790 395 1186 593 1780 890 445 1336 668 334 167 502 251 754 377 1132 566 283 850 425 1276 638 319 958 479 1438 719 2158 1079 3238 1619 4858 2429 7288 3644 1822 911 2734 1367 4102 2051 6154 3077 9232 4616 2308 1154 577 1732 866 433 1300 650 325 976 488 244 122 61 184 92 46 23 70 35 106 53 160 80 40 20 10 5 16 8 4 2 1 "
     ]
    }
   ],
   "source": [
    "x = 103\n",
    "print(x , end = \" \")\n",
    "while x != 1:\n",
    "    if x % 2 == 0:\n",
    "        x = x / 2\n",
    "        print(int(x), end = \" \")\n",
    "    else:\n",
    "        x = 3 * x + 1\n",
    "        print(int(x), end = \" \")\n",
    "    "
   ]
  },
  {
   "cell_type": "markdown",
   "id": "a27ef9d2",
   "metadata": {},
   "source": [
    "<h2>3 Functions</h2>"
   ]
  },
  {
   "cell_type": "markdown",
   "id": "e9443032",
   "metadata": {},
   "source": [
    "<h3>Exercise 3.1: Hello</h3>"
   ]
  },
  {
   "cell_type": "markdown",
   "id": "3f712799",
   "metadata": {},
   "source": [
    "<b>(a) Write a function hello_world that prints ’Hello, world!’</b>"
   ]
  },
  {
   "cell_type": "code",
   "execution_count": 57,
   "id": "eb1a5c5e",
   "metadata": {},
   "outputs": [
    {
     "name": "stdout",
     "output_type": "stream",
     "text": [
      "Hello, world!\n"
     ]
    }
   ],
   "source": [
    "def hello_world():\n",
    "    print('Hello, world!')\n",
    "hello_world()"
   ]
  },
  {
   "cell_type": "markdown",
   "id": "02bed79d",
   "metadata": {},
   "source": [
    "<b>(b) Write a function hello_name(name) that prints ’Hello, name!’ where name is a string.</b>"
   ]
  },
  {
   "cell_type": "code",
   "execution_count": 60,
   "id": "2498e7d8",
   "metadata": {},
   "outputs": [
    {
     "name": "stdout",
     "output_type": "stream",
     "text": [
      "Hello, Enes!\n"
     ]
    }
   ],
   "source": [
    "def hello_name(name):\n",
    "    print(\"Hello, \" + name + \"!\")\n",
    "hello_name(\"Enes\")"
   ]
  },
  {
   "cell_type": "markdown",
   "id": "de846789",
   "metadata": {},
   "source": [
    "<b>(c) Explain the difference between the print and return keywords. What would change if instead of\n",
    "print you would use return?</b>"
   ]
  },
  {
   "cell_type": "markdown",
   "id": "65c71976",
   "metadata": {},
   "source": [
    "Print is used to display a value on the screen. print() is used to display values. On the other hand, return is used to return a value from a function and exit the function. In order to return a value, return keyword is used."
   ]
  },
  {
   "cell_type": "markdown",
   "id": "880e8e88",
   "metadata": {},
   "source": [
    "<h3>Exercise 3.2: Polynomial</h3>"
   ]
  },
  {
   "cell_type": "code",
   "execution_count": 68,
   "id": "7e175083",
   "metadata": {},
   "outputs": [
    {
     "data": {
      "text/plain": [
       "2"
      ]
     },
     "execution_count": 68,
     "metadata": {},
     "output_type": "execute_result"
    }
   ],
   "source": [
    "def evaluatePolynomial(x):\n",
    "    return 3 * x ** 2 - x + 2\n",
    "evaluatePolynomial(0)"
   ]
  },
  {
   "cell_type": "markdown",
   "id": "4c9ef66b",
   "metadata": {},
   "source": [
    "<h3>Exercise 3.3: Maximum</h3>"
   ]
  },
  {
   "cell_type": "markdown",
   "id": "9ed711ad",
   "metadata": {},
   "source": [
    "<b>(a) Use both if and else.</b>"
   ]
  },
  {
   "cell_type": "code",
   "execution_count": 74,
   "id": "8d68ce0e",
   "metadata": {},
   "outputs": [
    {
     "data": {
      "text/plain": [
       "5"
      ]
     },
     "execution_count": 74,
     "metadata": {},
     "output_type": "execute_result"
    }
   ],
   "source": [
    "def my_max(x,y):\n",
    "    if x > y:\n",
    "        return x\n",
    "    else:\n",
    "        return y\n",
    "my_max(5,3)"
   ]
  },
  {
   "cell_type": "markdown",
   "id": "44d2a066",
   "metadata": {},
   "source": [
    "<b>(b) Use if but not else (nor elif).</b>"
   ]
  },
  {
   "cell_type": "code",
   "execution_count": 75,
   "id": "5f9b6df8",
   "metadata": {},
   "outputs": [
    {
     "data": {
      "text/plain": [
       "5"
      ]
     },
     "execution_count": 75,
     "metadata": {},
     "output_type": "execute_result"
    }
   ],
   "source": [
    "def my_max(x,y):\n",
    "    if x > y:\n",
    "        return x\n",
    "    return y\n",
    "my_max(3,5)"
   ]
  },
  {
   "cell_type": "markdown",
   "id": "27b25cba",
   "metadata": {},
   "source": [
    "<h3>Exercise 3.4: Primes</h3>"
   ]
  },
  {
   "cell_type": "markdown",
   "id": "c225581e",
   "metadata": {},
   "source": [
    "<b>(a) Write a function is_prime(n) that returns True only if n is prime.</b>"
   ]
  },
  {
   "cell_type": "code",
   "execution_count": 36,
   "id": "5723e175",
   "metadata": {},
   "outputs": [
    {
     "data": {
      "text/plain": [
       "True"
      ]
     },
     "execution_count": 36,
     "metadata": {},
     "output_type": "execute_result"
    }
   ],
   "source": [
    "def is_prime(num):\n",
    "    if num> 1:  \n",
    "        for n in range(2,num):  \n",
    "            if (num % n) == 0:  \n",
    "                return False\n",
    "        return True\n",
    "    else:\n",
    "        return False\n",
    "is_prime(13)"
   ]
  },
  {
   "cell_type": "markdown",
   "id": "5f89fa35",
   "metadata": {},
   "source": [
    "<b>(c) Write a function that returns all primes up to n.</b>"
   ]
  },
  {
   "cell_type": "code",
   "execution_count": 45,
   "id": "e6e08d8e",
   "metadata": {
    "scrolled": true
   },
   "outputs": [
    {
     "name": "stdout",
     "output_type": "stream",
     "text": [
      "2 3 5 7 11 13 "
     ]
    }
   ],
   "source": [
    "def func(n):\n",
    "    for x in range(2, n + 1):\n",
    "        if is_prime(x):\n",
    "            print(x, end = \" \")\n",
    "func(14)"
   ]
  },
  {
   "cell_type": "markdown",
   "id": "06e75edb",
   "metadata": {},
   "source": [
    "<b>(d) Write a function that returns the first n primes.</b>"
   ]
  },
  {
   "cell_type": "code",
   "execution_count": 54,
   "id": "b6947419",
   "metadata": {},
   "outputs": [
    {
     "name": "stdout",
     "output_type": "stream",
     "text": [
      "2 3 5 7 11 13 17 19 "
     ]
    }
   ],
   "source": [
    "def func(n):\n",
    "    x = 2\n",
    "    primeNums = 0\n",
    "    while primeNums < n:\n",
    "        if is_prime(x):\n",
    "            print(x, end = \" \")\n",
    "            primeNums = primeNums + 1\n",
    "        x = x + 1\n",
    "func(8)"
   ]
  },
  {
   "cell_type": "code",
   "execution_count": null,
   "id": "a60dc1c8",
   "metadata": {},
   "outputs": [],
   "source": []
  }
 ],
 "metadata": {
  "kernelspec": {
   "display_name": "Python 3 (ipykernel)",
   "language": "python",
   "name": "python3"
  },
  "language_info": {
   "codemirror_mode": {
    "name": "ipython",
    "version": 3
   },
   "file_extension": ".py",
   "mimetype": "text/x-python",
   "name": "python",
   "nbconvert_exporter": "python",
   "pygments_lexer": "ipython3",
   "version": "3.9.7"
  }
 },
 "nbformat": 4,
 "nbformat_minor": 5
}
